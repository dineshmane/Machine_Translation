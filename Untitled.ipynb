{
 "cells": [
  {
   "cell_type": "code",
   "execution_count": 1,
   "metadata": {
    "collapsed": true
   },
   "outputs": [],
   "source": [
    "import string\n",
    "import re\n",
    "from pickle import dump\n",
    "from unicodedata import normalize\n",
    "from numpy import array"
   ]
  },
  {
   "cell_type": "code",
   "execution_count": 2,
   "metadata": {
    "collapsed": true
   },
   "outputs": [],
   "source": [
    "def load_doc(filename):\n",
    "    # open the file as read only\n",
    "    file = open(filename, mode='rt', encoding='utf-8')\n",
    "    # read all text\n",
    "    text = file.read()\n",
    "    # close the file\n",
    "    file.close()\n",
    "    return text"
   ]
  },
  {
   "cell_type": "code",
   "execution_count": 3,
   "metadata": {
    "collapsed": true
   },
   "outputs": [],
   "source": [
    "def to_pairs(doc):\n",
    "    lines = doc.strip().split('\\n')\n",
    "    pairs = [line.split('\\t') for line in  lines]\n",
    "    return pairs"
   ]
  },
  {
   "cell_type": "code",
   "execution_count": 4,
   "metadata": {
    "collapsed": true
   },
   "outputs": [],
   "source": [
    "# clean a list of lines\n",
    "def clean_pairs(lines):\n",
    "    cleaned = list()\n",
    "    # prepare regex for char filtering\n",
    "    re_print = re.compile('[^%s]' % re.escape(string.printable))\n",
    "    # prepare translation table for removing punctuation\n",
    "    table = str.maketrans('', '', string.punctuation)\n",
    "    for pair in lines:\n",
    "        clean_pair = list()\n",
    "        for line in pair:\n",
    "            # normalize unicode characters\n",
    "            line = normalize('NFD', line).encode('ascii', 'ignore')\n",
    "            line = line.decode('UTF-8')\n",
    "            # tokenize on white space\n",
    "            line = line.split()\n",
    "            # convert to lowercase\n",
    "            line = [word.lower() for word in line]\n",
    "            # remove punctuation from each token\n",
    "            line = [word.translate(table) for word in line]\n",
    "            # remove non-printable chars form each token\n",
    "            line = [re_print.sub('', w) for w in line]\n",
    "            # remove tokens with numbers in them\n",
    "            line = [word for word in line if word.isalpha()]\n",
    "            # store as string\n",
    "            clean_pair.append(' '.join(line))\n",
    "        cleaned.append(clean_pair)\n",
    "    return array(cleaned)\n"
   ]
  },
  {
   "cell_type": "code",
   "execution_count": 5,
   "metadata": {
    "collapsed": true
   },
   "outputs": [],
   "source": [
    "def save_clean_data(sentences, filename):\n",
    "    dump(sentences, open(filename, 'wb'))\n",
    "    print('Saved: %s' % filename)"
   ]
  },
  {
   "cell_type": "code",
   "execution_count": 6,
   "metadata": {
    "collapsed": false
   },
   "outputs": [
    {
     "name": "stdout",
     "output_type": "stream",
     "text": [
      "Saved: english-german.pkl\n",
      "[hi] => [hallo]\n",
      "[hi] => [gru gott]\n",
      "[run] => [lauf]\n",
      "[fire] => [feuer]\n",
      "[help] => [hilfe]\n",
      "[help] => [zu hulf]\n",
      "[stop] => [stopp]\n",
      "[wait] => [warte]\n",
      "[go on] => [mach weiter]\n",
      "[hello] => [hallo]\n"
     ]
    }
   ],
   "source": [
    "# load dataset\n",
    "filename = 'deu.txt'\n",
    "doc = load_doc(filename)\n",
    "# split into english-german pairs\n",
    "pairs = to_pairs(doc)\n",
    "# clean sentences\n",
    "clean_pairs = clean_pairs(pairs)\n",
    "# save clean pairs to file\n",
    "save_clean_data(clean_pairs, 'english-german.pkl')\n",
    "# spot check\n",
    "for i in range(10):\n",
    "    print('[%s] => [%s]' % (clean_pairs[i,0], clean_pairs[i,1]))"
   ]
  },
  {
   "cell_type": "markdown",
   "metadata": {},
   "source": [
    "### Split Text"
   ]
  },
  {
   "cell_type": "code",
   "execution_count": 7,
   "metadata": {
    "collapsed": true
   },
   "outputs": [],
   "source": [
    "from pickle import load\n",
    "from pickle import dump\n",
    "from numpy.random import rand\n",
    "from numpy.random import shuffle"
   ]
  },
  {
   "cell_type": "code",
   "execution_count": 8,
   "metadata": {
    "collapsed": false
   },
   "outputs": [
    {
     "name": "stdout",
     "output_type": "stream",
     "text": [
      "Saved: english-german-both.pkl\n",
      "Saved: english-german-train.pkl\n",
      "Saved: english-german-test.pkl\n"
     ]
    }
   ],
   "source": [
    "# load a clean dataset\n",
    "def load_clean_sentences(filename):\n",
    "    return load(open(filename, 'rb'))\n",
    " \n",
    "# save a list of clean sentences to file\n",
    "def save_clean_data(sentences, filename):\n",
    "    dump(sentences, open(filename, 'wb'))\n",
    "    print('Saved: %s' % filename)\n",
    " \n",
    "# load dataset\n",
    "raw_dataset = load_clean_sentences('english-german.pkl')\n",
    " \n",
    "# reduce dataset size\n",
    "n_sentences = 10000\n",
    "dataset = raw_dataset[:n_sentences, :]\n",
    "# random shuffle\n",
    "shuffle(dataset)\n",
    "# split into train/test\n",
    "train, test = dataset[:9000], dataset[9000:]\n",
    "# save\n",
    "save_clean_data(dataset, 'english-german-both.pkl')\n",
    "save_clean_data(train, 'english-german-train.pkl')\n",
    "save_clean_data(test, 'english-german-test.pkl')"
   ]
  },
  {
   "cell_type": "code",
   "execution_count": 9,
   "metadata": {
    "collapsed": true
   },
   "outputs": [],
   "source": [
    "# load a clean dataset\n",
    "def load_clean_sentences(filename):\n",
    "    return load(open(filename, 'rb'))\n",
    " \n",
    "# load datasets\n",
    "dataset = load_clean_sentences('english-german-both.pkl')\n",
    "train = load_clean_sentences('english-german-train.pkl')\n",
    "test = load_clean_sentences('english-german-test.pkl')"
   ]
  },
  {
   "cell_type": "code",
   "execution_count": 10,
   "metadata": {
    "collapsed": true
   },
   "outputs": [],
   "source": [
    "# fit a tokenizer\n",
    "def create_tokenizer(lines):\n",
    "    tokenizer = Tokenizer()\n",
    "    tokenizer.fit_on_texts(lines)\n",
    "    return tokenizer"
   ]
  },
  {
   "cell_type": "code",
   "execution_count": 11,
   "metadata": {
    "collapsed": true
   },
   "outputs": [],
   "source": [
    "# max sentence length\n",
    "def max_length(lines):\n",
    "    return max(len(line.split()) for line in lines)"
   ]
  },
  {
   "cell_type": "code",
   "execution_count": 12,
   "metadata": {
    "collapsed": false
   },
   "outputs": [
    {
     "name": "stderr",
     "output_type": "stream",
     "text": [
      "Using TensorFlow backend.\n"
     ]
    }
   ],
   "source": [
    "from keras.utils import to_categorical\n",
    "from keras.utils.vis_utils import plot_model\n",
    "from keras.models import Sequential\n",
    "from keras.layers import LSTM\n",
    "from keras.layers import Dense\n",
    "from keras.layers import Embedding\n",
    "from keras.layers import RepeatVector\n",
    "from keras.layers import TimeDistributed\n",
    "from keras.callbacks import ModelCheckpoint"
   ]
  },
  {
   "cell_type": "code",
   "execution_count": 13,
   "metadata": {
    "collapsed": false
   },
   "outputs": [
    {
     "name": "stdout",
     "output_type": "stream",
     "text": [
      "2315\n",
      "5\n",
      "English Vocabulary Size: 2315\n",
      "English Max Length: 5\n",
      "German Vocabulary Size: 3686\n",
      "German Max Length: 10\n"
     ]
    }
   ],
   "source": [
    "from keras.preprocessing.text import Tokenizer\n",
    "from keras.preprocessing.sequence import pad_sequences\n",
    "\n",
    "\n",
    "eng_tokenizer = create_tokenizer(dataset[:, 0])\n",
    "eng_vocab_size = len(eng_tokenizer.word_index) + 1\n",
    "print(eng_vocab_size)\n",
    "eng_length = max_length(dataset[:, 0])\n",
    "print(eng_length)\n",
    "print('English Vocabulary Size: %d' % eng_vocab_size)\n",
    "print('English Max Length: %d' % (eng_length))\n",
    "# prepare german tokenizer\n",
    "ger_tokenizer = create_tokenizer(dataset[:, 1])\n",
    "ger_vocab_size = len(ger_tokenizer.word_index) + 1\n",
    "ger_length = max_length(dataset[:, 1])\n",
    "print('German Vocabulary Size: %d' % ger_vocab_size)\n",
    "print('German Max Length: %d' % (ger_length))"
   ]
  },
  {
   "cell_type": "code",
   "execution_count": null,
   "metadata": {
    "collapsed": false
   },
   "outputs": [],
   "source": []
  },
  {
   "cell_type": "code",
   "execution_count": 14,
   "metadata": {
    "collapsed": true
   },
   "outputs": [],
   "source": [
    "# encode and pad sequences\n",
    "def encode_sequences(tokenizer, length, lines):\n",
    "    # integer encode sequences\n",
    "    X = tokenizer.texts_to_sequences(lines)\n",
    "    # pad sequences with 0 values\n",
    "    X = pad_sequences(X, maxlen=length, padding='post')\n",
    "    return X"
   ]
  },
  {
   "cell_type": "code",
   "execution_count": 23,
   "metadata": {
    "collapsed": true
   },
   "outputs": [],
   "source": [
    "# one hot encode target sequence\n",
    "def encode_output(sequences, vocab_size):\n",
    "    ylist = list()\n",
    "    for sequence in sequences:\n",
    "        encoded = to_categorical(sequence, num_classes=vocab_size)\n",
    "        ylist.append(encoded)\n",
    "    y = array(ylist)\n",
    "    y = y.reshape(sequences.shape[0], sequences.shape[1], vocab_size)\n",
    "    return y"
   ]
  },
  {
   "cell_type": "code",
   "execution_count": 36,
   "metadata": {
    "collapsed": false
   },
   "outputs": [
    {
     "name": "stdout",
     "output_type": "stream",
     "text": [
      "(9000, 10)\n",
      "(9000, 5, 2315)\n",
      "2315\n"
     ]
    }
   ],
   "source": [
    "print(trainX.shape)\n",
    "print(trainY.shape)\n",
    "print(eng_vocab_size)"
   ]
  },
  {
   "cell_type": "code",
   "execution_count": 25,
   "metadata": {
    "collapsed": false
   },
   "outputs": [],
   "source": [
    "# prepare training data\n",
    "trainX = encode_sequences(ger_tokenizer, ger_length, train[:, 1])\n",
    "trainY = encode_sequences(eng_tokenizer, eng_length, train[:, 0])\n",
    "trainY = encode_output(trainY, eng_vocab_size)\n",
    "# prepare validation data\n",
    "testX = encode_sequences(ger_tokenizer, ger_length, test[:, 1])\n",
    "testY = encode_sequences(eng_tokenizer, eng_length, test[:, 0])\n",
    "testY = encode_output(testY, eng_vocab_size)"
   ]
  },
  {
   "cell_type": "code",
   "execution_count": 40,
   "metadata": {
    "collapsed": false
   },
   "outputs": [
    {
     "name": "stdout",
     "output_type": "stream",
     "text": [
      "ger_vocab_size  3686\n",
      "eng_vocab_size  2315\n",
      "src_timesteps  10\n",
      "tar_timesteps  5\n"
     ]
    }
   ],
   "source": [
    "print(\"src_vocab \", ger_vocab_size)\n",
    "print(\"tar_vocab \", eng_vocab_size)\n",
    "print(\"src_timesteps \", ger_length)\n",
    "print(\"tar_timesteps \", eng_length)"
   ]
  },
  {
   "cell_type": "code",
   "execution_count": 44,
   "metadata": {
    "collapsed": false
   },
   "outputs": [
    {
     "name": "stdout",
     "output_type": "stream",
     "text": [
      "_________________________________________________________________\n",
      "Layer (type)                 Output Shape              Param #   \n",
      "=================================================================\n",
      "embedding_1 (Embedding)      (None, 10, 256)           943616    \n",
      "_________________________________________________________________\n",
      "lstm_1 (LSTM)                (None, 256)               525312    \n",
      "_________________________________________________________________\n",
      "repeat_vector_1 (RepeatVecto (None, 5, 256)            0         \n",
      "_________________________________________________________________\n",
      "lstm_2 (LSTM)                (None, 5, 256)            525312    \n",
      "_________________________________________________________________\n",
      "time_distributed_1 (TimeDist (None, 5, 2315)           594955    \n",
      "=================================================================\n",
      "Total params: 2,589,195\n",
      "Trainable params: 2,589,195\n",
      "Non-trainable params: 0\n",
      "_________________________________________________________________\n",
      "None\n"
     ]
    }
   ],
   "source": [
    "# define NMT model\n",
    "def define_model(src_vocab, tar_vocab, src_timesteps, tar_timesteps, n_units):\n",
    "    model = Sequential()\n",
    "    model.add(Embedding(src_vocab, n_units, input_length=src_timesteps, mask_zero=True))\n",
    "    model.add(LSTM(n_units))\n",
    "    model.add(RepeatVector(tar_timesteps))\n",
    "    model.add(LSTM(n_units, return_sequences=True))\n",
    "    model.add(TimeDistributed(Dense(tar_vocab, activation='softmax')))\n",
    "    return model\n",
    "\n",
    "# define model\n",
    "model = define_model(ger_vocab_size, eng_vocab_size, ger_length, eng_length, 256)\n",
    "model.compile(optimizer='adam', loss='categorical_crossentropy')\n",
    "# summarize defined model\n",
    "print(model.summary())\n",
    "plot_model(model, to_file='model.png', show_shapes=True)"
   ]
  },
  {
   "cell_type": "code",
   "execution_count": 45,
   "metadata": {
    "collapsed": false
   },
   "outputs": [
    {
     "name": "stdout",
     "output_type": "stream",
     "text": [
      "Train on 9000 samples, validate on 1000 samples\n",
      "Epoch 1/30\n",
      " - 189s - loss: 4.3247 - val_loss: 3.5440\n",
      "\n",
      "Epoch 00001: val_loss improved from inf to 3.54398, saving model to model.h5\n",
      "Epoch 2/30\n",
      " - 21s - loss: 3.4139 - val_loss: 3.3903\n",
      "\n",
      "Epoch 00002: val_loss improved from 3.54398 to 3.39027, saving model to model.h5\n",
      "Epoch 3/30\n",
      " - 21s - loss: 3.2766 - val_loss: 3.3260\n",
      "\n",
      "Epoch 00003: val_loss improved from 3.39027 to 3.32603, saving model to model.h5\n",
      "Epoch 4/30\n",
      " - 21s - loss: 3.1570 - val_loss: 3.2145\n",
      "\n",
      "Epoch 00004: val_loss improved from 3.32603 to 3.21449, saving model to model.h5\n",
      "Epoch 5/30\n",
      " - 21s - loss: 3.0055 - val_loss: 3.1145\n",
      "\n",
      "Epoch 00005: val_loss improved from 3.21449 to 3.11453, saving model to model.h5\n",
      "Epoch 6/30\n",
      " - 22s - loss: 2.8460 - val_loss: 2.9757\n",
      "\n",
      "Epoch 00006: val_loss improved from 3.11453 to 2.97567, saving model to model.h5\n",
      "Epoch 7/30\n",
      " - 21s - loss: 2.6818 - val_loss: 2.8786\n",
      "\n",
      "Epoch 00007: val_loss improved from 2.97567 to 2.87864, saving model to model.h5\n",
      "Epoch 8/30\n",
      " - 21s - loss: 2.5281 - val_loss: 2.7855\n",
      "\n",
      "Epoch 00008: val_loss improved from 2.87864 to 2.78546, saving model to model.h5\n",
      "Epoch 9/30\n",
      " - 21s - loss: 2.3681 - val_loss: 2.6629\n",
      "\n",
      "Epoch 00009: val_loss improved from 2.78546 to 2.66288, saving model to model.h5\n",
      "Epoch 10/30\n",
      " - 21s - loss: 2.2136 - val_loss: 2.5549\n",
      "\n",
      "Epoch 00010: val_loss improved from 2.66288 to 2.55492, saving model to model.h5\n",
      "Epoch 11/30\n",
      " - 21s - loss: 2.0655 - val_loss: 2.4930\n",
      "\n",
      "Epoch 00011: val_loss improved from 2.55492 to 2.49297, saving model to model.h5\n",
      "Epoch 12/30\n",
      " - 21s - loss: 1.9275 - val_loss: 2.4003\n",
      "\n",
      "Epoch 00012: val_loss improved from 2.49297 to 2.40032, saving model to model.h5\n",
      "Epoch 13/30\n",
      " - 21s - loss: 1.8060 - val_loss: 2.3421\n",
      "\n",
      "Epoch 00013: val_loss improved from 2.40032 to 2.34214, saving model to model.h5\n",
      "Epoch 14/30\n",
      " - 21s - loss: 1.6891 - val_loss: 2.2931\n",
      "\n",
      "Epoch 00014: val_loss improved from 2.34214 to 2.29312, saving model to model.h5\n",
      "Epoch 15/30\n",
      " - 20s - loss: 1.5792 - val_loss: 2.2423\n",
      "\n",
      "Epoch 00015: val_loss improved from 2.29312 to 2.24227, saving model to model.h5\n",
      "Epoch 16/30\n",
      " - 21s - loss: 1.4745 - val_loss: 2.2016\n",
      "\n",
      "Epoch 00016: val_loss improved from 2.24227 to 2.20157, saving model to model.h5\n",
      "Epoch 17/30\n",
      " - 21s - loss: 1.3751 - val_loss: 2.1592\n",
      "\n",
      "Epoch 00017: val_loss improved from 2.20157 to 2.15916, saving model to model.h5\n",
      "Epoch 18/30\n",
      " - 21s - loss: 1.2807 - val_loss: 2.1171\n",
      "\n",
      "Epoch 00018: val_loss improved from 2.15916 to 2.11709, saving model to model.h5\n",
      "Epoch 19/30\n",
      " - 21s - loss: 1.1923 - val_loss: 2.0887\n",
      "\n",
      "Epoch 00019: val_loss improved from 2.11709 to 2.08869, saving model to model.h5\n",
      "Epoch 20/30\n",
      " - 20s - loss: 1.1039 - val_loss: 2.0751\n",
      "\n",
      "Epoch 00020: val_loss improved from 2.08869 to 2.07509, saving model to model.h5\n",
      "Epoch 21/30\n",
      " - 20s - loss: 1.0200 - val_loss: 2.0469\n",
      "\n",
      "Epoch 00021: val_loss improved from 2.07509 to 2.04688, saving model to model.h5\n",
      "Epoch 22/30\n",
      " - 20s - loss: 0.9441 - val_loss: 2.0243\n",
      "\n",
      "Epoch 00022: val_loss improved from 2.04688 to 2.02426, saving model to model.h5\n",
      "Epoch 23/30\n",
      " - 20s - loss: 0.8682 - val_loss: 2.0085\n",
      "\n",
      "Epoch 00023: val_loss improved from 2.02426 to 2.00848, saving model to model.h5\n",
      "Epoch 24/30\n",
      " - 20s - loss: 0.7964 - val_loss: 1.9871\n",
      "\n",
      "Epoch 00024: val_loss improved from 2.00848 to 1.98712, saving model to model.h5\n",
      "Epoch 25/30\n",
      " - 20s - loss: 0.7311 - val_loss: 1.9759\n",
      "\n",
      "Epoch 00025: val_loss improved from 1.98712 to 1.97588, saving model to model.h5\n",
      "Epoch 26/30\n",
      " - 20s - loss: 0.6727 - val_loss: 1.9732\n",
      "\n",
      "Epoch 00026: val_loss improved from 1.97588 to 1.97325, saving model to model.h5\n",
      "Epoch 27/30\n",
      " - 20s - loss: 0.6141 - val_loss: 1.9714\n",
      "\n",
      "Epoch 00027: val_loss improved from 1.97325 to 1.97145, saving model to model.h5\n",
      "Epoch 28/30\n",
      " - 20s - loss: 0.5652 - val_loss: 1.9584\n",
      "\n",
      "Epoch 00028: val_loss improved from 1.97145 to 1.95841, saving model to model.h5\n",
      "Epoch 29/30\n",
      " - 20s - loss: 0.5164 - val_loss: 1.9523\n",
      "\n",
      "Epoch 00029: val_loss improved from 1.95841 to 1.95227, saving model to model.h5\n",
      "Epoch 30/30\n",
      " - 20s - loss: 0.4727 - val_loss: 1.9770\n",
      "\n",
      "Epoch 00030: val_loss did not improve from 1.95227\n"
     ]
    },
    {
     "data": {
      "text/plain": [
       "<keras.callbacks.History at 0x227a5172358>"
      ]
     },
     "execution_count": 45,
     "metadata": {},
     "output_type": "execute_result"
    }
   ],
   "source": [
    "filename = 'model.h5'\n",
    "checkpoint = ModelCheckpoint(filename, monitor='val_loss', verbose=1, save_best_only=True, mode='min')\n",
    "model.fit(trainX, trainY, epochs=30, batch_size=64, validation_data=(testX, testY), callbacks=[checkpoint], verbose=2)"
   ]
  },
  {
   "cell_type": "markdown",
   "metadata": {},
   "source": [
    "### Test model"
   ]
  },
  {
   "cell_type": "code",
   "execution_count": 41,
   "metadata": {
    "collapsed": true
   },
   "outputs": [],
   "source": [
    "from keras.models import load_model\n",
    "from nltk.translate.bleu_score import corpus_bleu"
   ]
  },
  {
   "cell_type": "code",
   "execution_count": 42,
   "metadata": {
    "collapsed": true
   },
   "outputs": [],
   "source": [
    "# load datasets\n",
    "dataset = load_clean_sentences('english-german-both.pkl')\n",
    "train = load_clean_sentences('english-german-train.pkl')\n",
    "test = load_clean_sentences('english-german-test.pkl')\n",
    "# prepare english tokenizer\n",
    "eng_tokenizer = create_tokenizer(dataset[:, 0])\n",
    "eng_vocab_size = len(eng_tokenizer.word_index) + 1\n",
    "eng_length = max_length(dataset[:, 0])\n",
    "# prepare german tokenizer\n",
    "ger_tokenizer = create_tokenizer(dataset[:, 1])\n",
    "ger_vocab_size = len(ger_tokenizer.word_index) + 1\n",
    "ger_length = max_length(dataset[:, 1])\n",
    "# prepare data\n",
    "trainX = encode_sequences(ger_tokenizer, ger_length, train[:, 1])\n",
    "testX = encode_sequences(ger_tokenizer, ger_length, test[:, 1])"
   ]
  },
  {
   "cell_type": "code",
   "execution_count": 43,
   "metadata": {
    "collapsed": false
   },
   "outputs": [],
   "source": [
    "# load model\n",
    "model = load_model('model.h5')"
   ]
  },
  {
   "cell_type": "code",
   "execution_count": 51,
   "metadata": {
    "collapsed": true
   },
   "outputs": [],
   "source": [
    "# map an integer to a word\n",
    "def word_for_id(integer, tokenizer):\n",
    "    for word, index in tokenizer.word_index.items():\n",
    "        if index == integer:\n",
    "            return word\n",
    "    return None\n",
    "\n",
    "# generate target given source sequence\n",
    "def predict_sequence(model, tokenizer, source):\n",
    "    prediction = model.predict(source, verbose=0)[0]\n",
    "    integers = [argmax(vector) for vector in prediction]\n",
    "    target = list()\n",
    "    for i in integers:\n",
    "        word = word_for_id(i, tokenizer)\n",
    "        if word is None:\n",
    "            break\n",
    "        target.append(word)\n",
    "    return ' '.join(target)\n",
    "\n",
    "# evaluate the skill of the model\n",
    "def evaluate_model(model, tokenizer, sources, raw_dataset):\n",
    "    actual, predicted = list(), list()\n",
    "    for i, source in enumerate(sources):\n",
    "        # translate encoded source text\n",
    "        source = source.reshape((1, source.shape[0]))\n",
    "        translation = predict_sequence(model, eng_tokenizer, source)\n",
    "        raw_target, raw_src = raw_dataset[i]\n",
    "        if i < 10:\n",
    "            print('src=[%s], target=[%s], predicted=[%s]' % (raw_src, raw_target, translation))\n",
    "        actual.append(raw_target.split())\n",
    "        predicted.append(translation.split())\n",
    "    # calculate BLEU score\n",
    "    print('BLEU-1: %f' % corpus_bleu(actual, predicted, weights=(1.0, 0, 0, 0)))\n",
    "    print('BLEU-2: %f' % corpus_bleu(actual, predicted, weights=(0.5, 0.5, 0, 0)))\n",
    "    print('BLEU-3: %f' % corpus_bleu(actual, predicted, weights=(0.3, 0.3, 0.3, 0)))\n",
    "    print('BLEU-4: %f' % corpus_bleu(actual, predicted, weights=(0.25, 0.25, 0.25, 0.25)))"
   ]
  },
  {
   "cell_type": "code",
   "execution_count": 49,
   "metadata": {
    "collapsed": true
   },
   "outputs": [],
   "source": [
    "from numpy import argmax"
   ]
  },
  {
   "cell_type": "code",
   "execution_count": 50,
   "metadata": {
    "collapsed": false
   },
   "outputs": [
    {
     "name": "stdout",
     "output_type": "stream",
     "text": [
      "train\n",
      "src=[kann es das sein], target=[can this be it], predicted=[can it try]\n",
      "src=[ich sah die kochin], target=[i saw the cook], predicted=[i cats my stayed]\n",
      "src=[sie ist glucklich], target=[she is happy], predicted=[she is shy]\n",
      "src=[ich koche gern], target=[i like to cook], predicted=[im lend]\n",
      "src=[ich schlage es nach], target=[ill look it up], predicted=[i fine it]\n",
      "src=[das ist sehr gro], target=[thats very big], predicted=[thats ok horse]\n",
      "src=[es ist zu hart], target=[its too hard], predicted=[its too up]\n",
      "src=[das ist mein mittagessen], target=[thats my lunch], predicted=[was is tell]\n",
      "src=[ich kann das nicht], target=[i cant do that], predicted=[i cant do it]\n",
      "src=[ich helfe dir], target=[ill help you], predicted=[i help you]\n"
     ]
    },
    {
     "name": "stderr",
     "output_type": "stream",
     "text": [
      "C:\\Users\\Shree\\Anaconda3\\lib\\site-packages\\nltk\\translate\\bleu_score.py:490: UserWarning: \n",
      "Corpus/Sentence contains 0 counts of 2-gram overlaps.\n",
      "BLEU scores might be undesirable; use SmoothingFunction().\n",
      "  warnings.warn(_msg)\n"
     ]
    },
    {
     "name": "stdout",
     "output_type": "stream",
     "text": [
      "BLEU-1: 0.073588\n",
      "BLEU-2: 0.261802\n",
      "BLEU-3: 0.434950\n",
      "BLEU-4: 0.493805\n",
      "test\n",
      "src=[sie stinken], target=[you stink], predicted=[they tip]\n",
      "src=[herzlichen gluckwunsch], target=[congratulations], predicted=[im]\n",
      "src=[tom humpelt], target=[toms limping], predicted=[tom sing]\n",
      "src=[er liebt musik], target=[he loves music], predicted=[he were did]\n",
      "src=[konnt ihr mich auslassen], target=[can you skip me], predicted=[give me me me]\n",
      "src=[kampft tom], target=[is tom fighting], predicted=[doesnt tom]\n",
      "src=[sie setzten sich], target=[they sat down], predicted=[they eat winning]\n",
      "src=[tom konnte es sein], target=[it could be tom], predicted=[tom well you]\n",
      "src=[das ist unsinn], target=[thats rubbish], predicted=[thats closer]\n",
      "src=[tom hat sich verbrannt], target=[tom got burned], predicted=[tom has to up]\n",
      "BLEU-1: 0.067042\n",
      "BLEU-2: 0.248898\n",
      "BLEU-3: 0.420622\n",
      "BLEU-4: 0.479578\n"
     ]
    }
   ],
   "source": [
    "dataset = load_clean_sentences('english-german-both.pkl')\n",
    "train = load_clean_sentences('english-german-train.pkl')\n",
    "test = load_clean_sentences('english-german-test.pkl')\n",
    "# prepare english tokenizer\n",
    "eng_tokenizer = create_tokenizer(dataset[:, 0])\n",
    "eng_vocab_size = len(eng_tokenizer.word_index) + 1\n",
    "eng_length = max_length(dataset[:, 0])\n",
    "# prepare german tokenizer\n",
    "ger_tokenizer = create_tokenizer(dataset[:, 1])\n",
    "ger_vocab_size = len(ger_tokenizer.word_index) + 1\n",
    "ger_length = max_length(dataset[:, 1])\n",
    "# prepare data\n",
    "trainX = encode_sequences(ger_tokenizer, ger_length, train[:, 1])\n",
    "testX = encode_sequences(ger_tokenizer, ger_length, test[:, 1])\n",
    " \n",
    "# load model\n",
    "model = load_model('model.h5')\n",
    "# test on some training sequences\n",
    "print('train')\n",
    "evaluate_model(model, eng_tokenizer, trainX, train)\n",
    "# test on some test sequences\n",
    "print('test')\n",
    "evaluate_model(model, eng_tokenizer, testX, test)"
   ]
  },
  {
   "cell_type": "code",
   "execution_count": 52,
   "metadata": {
    "collapsed": false
   },
   "outputs": [
    {
     "data": {
      "text/plain": [
       "array([[ 24,   5,   6, ...,   0,   0,   0],\n",
       "       [  1, 106,  22, ...,   0,   0,   0],\n",
       "       [  4,   3, 107, ...,   0,   0,   0],\n",
       "       ..., \n",
       "       [  9,   3,  16, ...,   0,   0,   0],\n",
       "       [  9, 125, 674, ...,   0,   0,   0],\n",
       "       [265,  30,  17, ...,   0,   0,   0]])"
      ]
     },
     "execution_count": 52,
     "metadata": {},
     "output_type": "execute_result"
    }
   ],
   "source": [
    "trainX"
   ]
  },
  {
   "cell_type": "code",
   "execution_count": null,
   "metadata": {
    "collapsed": true
   },
   "outputs": [],
   "source": []
  }
 ],
 "metadata": {
  "kernelspec": {
   "display_name": "Python 3",
   "language": "python",
   "name": "python3"
  },
  "language_info": {
   "codemirror_mode": {
    "name": "ipython",
    "version": 3
   },
   "file_extension": ".py",
   "mimetype": "text/x-python",
   "name": "python",
   "nbconvert_exporter": "python",
   "pygments_lexer": "ipython3",
   "version": "3.6.0"
  }
 },
 "nbformat": 4,
 "nbformat_minor": 2
}
